{ 
 "cells": [
  {
   "cell_type": "markdown",
   "metadata": {},
   "source": [
    "# File Input and Output Operations\n",
    "\n",
    "A basic way to start working with data"
   ]
  },
  {
   "cell_type": "markdown",
   "metadata": {},
   "source": [
    "Python has several functions for creating, reading, updating, and deleting files.\n",
    "\n",
    "# File Handling\n",
    "The key function for working with files in Python is the open() function.\n",
    "\n",
    "The open() function takes two parameters; filename, and mode.\n",
    "\n",
    "There are four different methods (modes) for opening a file:\n",
    "\n",
    "\"r\" - Read - Default value. Opens a file for reading, error if the file does not exist\n",
    "\n",
    "\"a\" - Append - Opens a file for appending, creates the file if it does not exist\n",
    "\n",
    "\"w\" - Write - Opens a file for writing, creates the file if it does not exist\n",
    "\n",
    "\"x\" - Create - Creates the specified file, returns an error if the file exists\n",
    "\n",
    "In addition you can specify if the file should be handled as binary or text mode\n",
    "\n",
    "\"t\" - Text - Default value. Text mode\n",
    "\n",
    "\"b\" - Binary - Binary mode (e.g. images)"
   ]
  },
  {
   "cell_type": "markdown",
   "metadata": {},
   "source": [
    "Text\n",
    "==="
   ]
  },
  {
   "cell_type": "code",
   "execution_count": null,
   "metadata": {},
   "outputs": [],
   "source": [
    "file1 = open(\"example.txt\",\"w\") # use 'a' for appending to a file\n",
    "text = \"Hello \\n\"\n",
    "file1.write(text)\n",
    "#file1.writelines(text) to write a list of text\n",
    "file1.close()"
   ]
  },
  {
   "cell_type": "code",
   "execution_count": null,
   "metadata": {},
   "outputs": [],
   "source": [
    "file1 = open(\"example.txt\",\"r\")  \n",
    "  \n",
    "text = file1.read() \n",
    "#file1.readlines() to read a list of text\n",
    "\n",
    "print(text)\n",
    "  "
   ]
  },
  {
   "cell_type": "markdown",
   "metadata": {},
   "source": [
    "CSV\n",
    "===\n",
    "Comma Separated Values"
   ]
  },
  {
   "cell_type": "code",
   "execution_count": null,
   "metadata": {},
   "outputs": [],
   "source": [
    "csv_text = \"\"\"Mighty Morphin Red Ranger,Jason Lee Scott,Tyrannosaurus\n",
    "Mighty Morphin Yellow Ranger,Trini Kwan,Saber-Toothed Tiger\n",
    "Mighty Morphin Blue Ranger,Billy Cranston,Triceratops\n",
    "Mighty Morphin Pink Ranger,Kimberly Ann Hart,Pterodactyl\n",
    "Mighty Morphin Black Ranger,Zack Taylor,Mastodon\n",
    "Mighty Morphin Green Ranger,Tommy Oliver,Dragonzord\"\"\"\n",
    "\n",
    "csv_text = csv_text.split('\\n')\n",
    "csv_text"
   ]
  },
  {
   "cell_type": "code",
   "execution_count": null,
   "metadata": {},
   "outputs": [],
   "source": [
    "csv_text_list = []\n",
    "for row in csv_text:\n",
    "    csv_text_list.append(row.split(\",\"))\n",
    "    \n",
    "csv_text_list"
   ]
  },
  {
   "cell_type": "code",
   "execution_count": null,
   "metadata": {},
   "outputs": [],
   "source": [
    "for row in csv_text_list:\n",
    "    tmp_text = \",\".join(row)\n",
    "    print(tmp_text)"
   ]
  },
  {
   "cell_type": "code",
   "execution_count": null,
   "metadata": {},
   "outputs": [],
   "source": [
    "file1 = open(\"example.csv\",\"w\") # use 'a' for appending to a file\n",
    "\n",
    "text_list = []\n",
    "for row in csv_text_list:\n",
    "    tmp_text = \",\".join(row)\n",
    "    text_list.append(tmp_text+\"\\n\")\n",
    "file1.writelines(text_list)\n",
    "file1.close()"
   ]
  },
  {
   "cell_type": "code",
   "execution_count": null,
   "metadata": {},
   "outputs": [],
   "source": [
    "file1 = open(\"example.csv\",\"r\")  \n",
    "  \n",
    "text = file1.readlines() \n",
    "print(text)\n",
    "  "
   ]
  },
  {
   "cell_type": "code",
   "execution_count": null,
   "metadata": {},
   "outputs": [],
   "source": [
    "for row in text:\n",
    "    for col in row.split(\",\"):\n",
    "        print(col.strip() , end = \" \")\n",
    "    print(\"\")"
   ]
  },
  {
   "cell_type": "markdown",
   "metadata": {},
   "source": [
    "Binary\n",
    "==="
   ]
  },
  {
   "cell_type": "code",
   "execution_count": null,
   "metadata": {},
   "outputs": [],
   "source": [
    "# How to write\n",
    "\n",
    "num=[1, 10, 15, 20, 25]\n",
    "arr=bytearray(num)\n",
    "\n",
    "f=open(\"binfile.bin\",\"wb\")\n",
    "f.write(arr)\n",
    "f.close()"
   ]
  },
  {
   "cell_type": "code",
   "execution_count": null,
   "metadata": {},
   "outputs": [],
   "source": [
    "# How to read\n",
    "\n",
    "f=open(\"binfile.bin\",\"rb\")\n",
    "num=list(f.read())\n",
    "f.close()\n",
    "\n",
    "print (num)"
   ]
  },
  {
   "cell_type": "markdown",
   "metadata": {},
   "source": [
    "Pickle\n",
    "==="
   ]
  },
  {
   "cell_type": "code",
   "execution_count": null,
   "metadata": {},
   "outputs": [],
   "source": [
    "Timmy = {'key' : 'Timmy', 'name' : 'Timmy Nooklet', \n",
    "'age' : 21, 'pay' : 20000} \n",
    "Tommy = {'key' : 'Tommy', 'name' : 'Tommy Nooklet', \n",
    "'age' : 23, 'pay' : 24000}\n",
    "\n",
    "# database \n",
    "db = {} \n",
    "db['Timmy'] = Timmy \n",
    "db['Tommy'] = Tommy \n",
    "\n",
    "for keys in db: \n",
    "    print(keys, '=>', db[keys]) "
   ]
  },
  {
   "cell_type": "code",
   "execution_count": null,
   "metadata": {},
   "outputs": [],
   "source": [
    "import pickle \n",
    "\n",
    "\n",
    "\n",
    "\n",
    "# Its important to use binary mode \n",
    "dbfile = open('example.pkl', 'wb') #\"ab\" if you want to append binary \n",
    "\n",
    "# source, destination \n",
    "pickle.dump(db, dbfile)                      \n",
    "dbfile.close() "
   ]
  },
  {
   "cell_type": "code",
   "execution_count": null,
   "metadata": {},
   "outputs": [],
   "source": [
    "# for reading also binary mode is important \n",
    "dbfile = open('example.pkl', 'rb')      \n",
    "new_db = pickle.load(dbfile) \n",
    "dbfile.close()\n",
    "\n",
    "for keys in new_db: \n",
    "    print(keys, '=>', db[keys]) "
   ]
  },
  {
   "cell_type": "markdown",
   "metadata": {},
   "source": [
    "# JSON\n",
    "JavaScript Object Notation"
   ]
  },
  {
   "cell_type": "code",
   "execution_count": null,
   "metadata": {},
   "outputs": [],
   "source": [
    "import json\n",
    "\n",
    "db = [\n",
    "    \n",
    "    {\n",
    "    \"userId\": 1,\n",
    "    \"id\": 1,\n",
    "    \"title\": \"The Philosopher's Stone\",\n",
    "    \"completed\": False\n",
    "    },\n",
    "    \n",
    "     {\n",
    "    \"userId\": 2,\n",
    "    \"id\": 2,\n",
    "    \"title\": \"The Chamber of Secrets\",\n",
    "    \"completed\": True\n",
    "    }\n",
    "]\n",
    "\n",
    "jsonfile = open('example.json', 'w') \n",
    "json.dump(db, jsonfile)\n",
    "jsonfile.close()"
   ]
  },
  {
   "cell_type": "code",
   "execution_count": null,
   "metadata": {},
   "outputs": [],
   "source": [
    " \n",
    "jsonfile = open('example.json', 'r') \n",
    "new_db = json.load(jsonfile)\n",
    "jsonfile.close()\n",
    "\n",
    "for keys in new_db: \n",
    "    print(keys) "
   ]
  },
  {
   "cell_type": "markdown",
   "metadata": {},
   "source": [
    "# Delete a File\n",
    "To delete a file, you must import the OS module, and run its os.remove() function:"
   ]
  },
  {
   "cell_type": "code",
   "execution_count": 4,
   "metadata": {},
   "outputs": [
    {
     "ename": "FileNotFoundError",
     "evalue": "[WinError 2] The system cannot find the file specified: 'demofile.txt'",
     "output_type": "error",
     "traceback": [
      "\u001b[1;31m---------------------------------------------------------------------------\u001b[0m",
      "\u001b[1;31mFileNotFoundError\u001b[0m                         Traceback (most recent call last)",
      "\u001b[1;32m<ipython-input-4-5ef3d5724ba4>\u001b[0m in \u001b[0;36m<module>\u001b[1;34m\u001b[0m\n\u001b[0;32m      2\u001b[0m \u001b[1;33m\u001b[0m\u001b[0m\n\u001b[0;32m      3\u001b[0m \u001b[1;32mimport\u001b[0m \u001b[0mos\u001b[0m\u001b[1;33m\u001b[0m\u001b[1;33m\u001b[0m\u001b[0m\n\u001b[1;32m----> 4\u001b[1;33m \u001b[0mos\u001b[0m\u001b[1;33m.\u001b[0m\u001b[0mremove\u001b[0m\u001b[1;33m(\u001b[0m\u001b[1;34m\"demofile.txt\"\u001b[0m\u001b[1;33m)\u001b[0m\u001b[1;33m\u001b[0m\u001b[1;33m\u001b[0m\u001b[0m\n\u001b[0m",
      "\u001b[1;31mFileNotFoundError\u001b[0m: [WinError 2] The system cannot find the file specified: 'demofile.txt'"
     ]
    }
   ],
   "source": [
    "# Remove the file \"demofile.txt\":\n",
    "\n",
    "import os\n",
    "os.remove(\"demofile.txt\")"
   ]
  },
  {
   "cell_type": "markdown",
   "metadata": {},
   "source": [
    "# Check if File exist:\n",
    "To avoid getting an error, you might want to check if the file exists before you try to delete it:"
   ]
  },
  {
   "cell_type": "code",
   "execution_count": 5,
   "metadata": {},
   "outputs": [
    {
     "name": "stdout",
     "output_type": "stream",
     "text": [
      "The file does not exist\n"
     ]
    }
   ],
   "source": [
    "# Check if file exists, then delete it:\n",
    "\n",
    "import os\n",
    "if os.path.exists(\"demofile.txt\"):\n",
    "  os.remove(\"demofile.txt\")\n",
    "else:\n",
    "  print(\"The file does not exist\")"
   ]
  },
  {
   "cell_type": "markdown",
   "metadata": {},
   "source": [
    "---\n",
    "**NEXT TOPIC:** [terminal apps](11_terminal_apps.ipynb)\n",
    "\n",
    "**ADVANCED TOPIC:** [advanced io](14_advanced_io.ipynb)"
   ]
  },
  {
   "cell_type": "code",
   "execution_count": null,
   "metadata": {},
   "outputs": [],
   "source": []
  }
 ],
 "metadata": {
  "kernelspec": {
   "display_name": "Python 3",
   "language": "python",
   "name": "python3"
  },
  "language_info": {
   "codemirror_mode": {
    "name": "ipython",
    "version": 3
   },
   "file_extension": ".py",
   "mimetype": "text/x-python",
   "name": "python",
   "nbconvert_exporter": "python",
   "pygments_lexer": "ipython3",
   "version": "3.8.3"
  }
 },
 "nbformat": 4,
 "nbformat_minor": 1
}
